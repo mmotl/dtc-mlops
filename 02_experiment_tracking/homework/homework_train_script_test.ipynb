{
 "cells": [
  {
   "cell_type": "code",
   "execution_count": null,
   "id": "b6715ef6",
   "metadata": {},
   "outputs": [],
   "source": [
    "import os\n",
    "import pickle\n",
    "import click\n",
    "import mlflow\n",
    "\n",
    "from sklearn.ensemble import RandomForestRegressor\n",
    "# from sklearn.metrics import mean_squared_error\n",
    "from sklearn.metrics import root_mean_squared_error"
   ]
  },
  {
   "cell_type": "code",
   "execution_count": null,
   "id": "464722fa",
   "metadata": {},
   "outputs": [],
   "source": [
    "def load_pickle(filename: str):\n",
    "    with open(filename, \"rb\") as f_in:\n",
    "        return pickle.load(f_in)"
   ]
  },
  {
   "cell_type": "code",
   "execution_count": null,
   "id": "a51c04a1",
   "metadata": {},
   "outputs": [
    {
     "data": {
      "text/plain": [
       "<Experiment: artifact_location='/Users/matthiasmotl/neuefische/repositories/dtc/dtc-mlops/02_experiment_tracking/homework/mlruns/1', creation_time=1747832692370, experiment_id='1', last_update_time=1747832692370, lifecycle_stage='active', name='homework_2', tags={}>"
      ]
     },
     "execution_count": 7,
     "metadata": {},
     "output_type": "execute_result"
    }
   ],
   "source": [
    "mlflow.set_tracking_uri('sqlite:///mlflow.db')\n",
    "mlflow.set_experiment('homework_2')"
   ]
  },
  {
   "cell_type": "code",
   "execution_count": 15,
   "id": "ea533654",
   "metadata": {},
   "outputs": [],
   "source": [
    "   # \"--data_path\",\n",
    "    # default=\"./output\",\n",
    "\n",
    "data_path = \"./output/\"\n",
    "help = \"Location where the processed NYC taxi trip data was saved\"\n"
   ]
  },
  {
   "cell_type": "code",
   "execution_count": 16,
   "id": "7a17d6ea",
   "metadata": {},
   "outputs": [
    {
     "data": {
      "text/plain": [
       "'./output/train.pkl'"
      ]
     },
     "execution_count": 16,
     "metadata": {},
     "output_type": "execute_result"
    }
   ],
   "source": [
    "data_path + \"train.pkl\""
   ]
  },
  {
   "cell_type": "code",
   "execution_count": 17,
   "id": "bfad43b6",
   "metadata": {},
   "outputs": [],
   "source": [
    "\n",
    "def run_train(data_path: str):\n",
    "\n",
    "    mlflow.sklearn.autolog() # new\n",
    "\n",
    "    X_train, y_train = load_pickle(data_path + \"train.pkl\")\n",
    "    X_val, y_val = load_pickle(data_path + \"val.pkl\")\n",
    "\n",
    "    rf = RandomForestRegressor(max_depth=10, random_state=0)\n",
    "    with mlflow.start_run():\n",
    "        rf.fit(X_train, y_train)\n",
    "\n",
    "        y_pred = rf.predict(X_val)\n",
    "\n",
    "        rmse = root_mean_squared_error(y_val, y_pred) #, squared=False)\n",
    "        mlflow.log_metric('rmse', rmse)\n",
    "\n",
    "run_train(data_path)\n"
   ]
  },
  {
   "cell_type": "code",
   "execution_count": null,
   "id": "5671b32e",
   "metadata": {},
   "outputs": [],
   "source": []
  },
  {
   "cell_type": "code",
   "execution_count": null,
   "id": "3412b5ef",
   "metadata": {},
   "outputs": [],
   "source": []
  }
 ],
 "metadata": {
  "kernelspec": {
   "display_name": "experiment_tracking",
   "language": "python",
   "name": "python3"
  },
  "language_info": {
   "codemirror_mode": {
    "name": "ipython",
    "version": 3
   },
   "file_extension": ".py",
   "mimetype": "text/x-python",
   "name": "python",
   "nbconvert_exporter": "python",
   "pygments_lexer": "ipython3",
   "version": "3.9.22"
  }
 },
 "nbformat": 4,
 "nbformat_minor": 5
}

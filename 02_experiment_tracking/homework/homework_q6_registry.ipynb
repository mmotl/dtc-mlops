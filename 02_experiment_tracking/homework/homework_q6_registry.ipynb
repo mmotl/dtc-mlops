{
 "cells": [
  {
   "cell_type": "code",
   "execution_count": 2,
   "id": "ff8cfb8e",
   "metadata": {},
   "outputs": [
    {
     "name": "stderr",
     "output_type": "stream",
     "text": [
      "2025/05/21 23:36:42 INFO mlflow.tracking.fluent: Experiment with name 'random-forest-best-models' does not exist. Creating a new experiment.\n"
     ]
    },
    {
     "data": {
      "text/plain": [
       "<Experiment: artifact_location='/Users/matthiasmotl/neuefische/repositories/dtc/dtc-mlops/02_experiment_tracking/homework/artifacts/3', creation_time=1747863402898, experiment_id='3', last_update_time=1747863402898, lifecycle_stage='active', name='random-forest-best-models', tags={}>"
      ]
     },
     "execution_count": 2,
     "metadata": {},
     "output_type": "execute_result"
    }
   ],
   "source": [
    "import mlflow\n",
    "\n",
    "HPO_EXPERIMENT_NAME = \"random-forest-hyperopt\"\n",
    "EXPERIMENT_NAME = \"random-forest-best-models\"\n",
    "RF_PARAMS = ['max_depth', 'n_estimators', 'min_samples_split', 'min_samples_leaf', 'random_state']\n",
    "\n",
    "mlflow.set_tracking_uri(\"http://127.0.0.1:5000\")\n",
    "mlflow.set_experiment(EXPERIMENT_NAME)"
   ]
  },
  {
   "cell_type": "code",
   "execution_count": 3,
   "id": "8cb25588",
   "metadata": {},
   "outputs": [],
   "source": [
    "from mlflow.tracking import MlflowClient\n",
    "\n"
   ]
  },
  {
   "cell_type": "code",
   "execution_count": 4,
   "id": "550d54eb",
   "metadata": {},
   "outputs": [],
   "source": [
    "MLFOW_TRACKING_URI = 'sqlite:///mlflow.db'\n",
    "\n",
    "client = MlflowClient(tracking_uri=MLFOW_TRACKING_URI)"
   ]
  },
  {
   "cell_type": "code",
   "execution_count": 8,
   "id": "6d50d969",
   "metadata": {},
   "outputs": [
    {
     "data": {
      "text/plain": [
       "[<Experiment: artifact_location='/Users/matthiasmotl/neuefische/repositories/dtc/dtc-mlops/02_experiment_tracking/homework/artifacts/3', creation_time=1747863402898, experiment_id='3', last_update_time=1747863402898, lifecycle_stage='active', name='random-forest-best-models', tags={}>,\n",
       " <Experiment: artifact_location='/Users/matthiasmotl/neuefische/repositories/dtc/dtc-mlops/02_experiment_tracking/homework/artifacts/2', creation_time=1747859005239, experiment_id='2', last_update_time=1747859005239, lifecycle_stage='active', name='random-forest-hyperopt', tags={}>,\n",
       " <Experiment: artifact_location='/Users/matthiasmotl/neuefische/repositories/dtc/dtc-mlops/02_experiment_tracking/homework/mlruns/1', creation_time=1747832692370, experiment_id='1', last_update_time=1747832692370, lifecycle_stage='active', name='homework_2', tags={}>,\n",
       " <Experiment: artifact_location='/Users/matthiasmotl/neuefische/repositories/dtc/dtc-mlops/02_experiment_tracking/homework/mlruns/0', creation_time=1747832692366, experiment_id='0', last_update_time=1747832692366, lifecycle_stage='active', name='Default', tags={}>]"
      ]
     },
     "execution_count": 8,
     "metadata": {},
     "output_type": "execute_result"
    }
   ],
   "source": [
    "client.search_experiments()"
   ]
  },
  {
   "cell_type": "code",
   "execution_count": null,
   "id": "a453da0d",
   "metadata": {},
   "outputs": [],
   "source": [
    "# client.create_experiment(name='bla')"
   ]
  },
  {
   "cell_type": "code",
   "execution_count": 45,
   "id": "fd889913",
   "metadata": {},
   "outputs": [
    {
     "name": "stdout",
     "output_type": "stream",
     "text": [
      "run id: ff8a2fa5c1104751a11954764962e4b8, run rmse: {'rmse': 5.335419588556921}\n"
     ]
    }
   ],
   "source": [
    "from mlflow.entities import ViewType\n",
    "\n",
    "runs = client.search_runs(\n",
    "    experiment_ids=2, #this is random-forest-hyperopt,\n",
    "    filter_string='', #'metrics.rmse < 5.36',\n",
    "    run_view_type=ViewType.ACTIVE_ONLY,\n",
    "    max_results=1,\n",
    "    order_by=['metrics.rmse ASC']\n",
    ")\n",
    "\n",
    "for run in runs:\n",
    "    print(f'run id: {run.info.run_id}, run rmse: {run.data.metrics}')"
   ]
  },
  {
   "cell_type": "code",
   "execution_count": 51,
   "id": "21138c15",
   "metadata": {},
   "outputs": [
    {
     "data": {
      "text/plain": [
       "'ff8a2fa5c1104751a11954764962e4b8'"
      ]
     },
     "execution_count": 51,
     "metadata": {},
     "output_type": "execute_result"
    }
   ],
   "source": [
    "best_run = client.search_runs(\n",
    "    experiment_ids=2, #this is random-forest-hyperopt,\n",
    "    filter_string='', #'metrics.rmse < 5.36',\n",
    "    run_view_type=ViewType.ACTIVE_ONLY,\n",
    "    max_results=1,\n",
    "    order_by=['metrics.rmse ASC'])[0]\n",
    "\n",
    "best_run.info.run_id"
   ]
  },
  {
   "cell_type": "code",
   "execution_count": 41,
   "id": "2f92d52f",
   "metadata": {},
   "outputs": [
    {
     "name": "stderr",
     "output_type": "stream",
     "text": [
      "Successfully registered model 'random_forest_regressor'.\n",
      "2025/05/22 00:08:20 INFO mlflow.store.model_registry.abstract_store: Waiting up to 300 seconds for model version to finish creation. Model name: random_forest_regressor, version 1\n",
      "Created version '1' of model 'random_forest_regressor'.\n"
     ]
    },
    {
     "data": {
      "text/plain": [
       "<ModelVersion: aliases=[], creation_timestamp=1747865300597, current_stage='None', description='', last_updated_timestamp=1747865300597, name='random_forest_regressor', run_id='ff8a2fa5c1104751a11954764962e4b8', run_link='', source='/Users/matthiasmotl/neuefische/repositories/dtc/dtc-mlops/02_experiment_tracking/homework/artifacts/2/ff8a2fa5c1104751a11954764962e4b8/artifacts/model', status='READY', status_message=None, tags={}, user_id='', version='1'>"
      ]
     },
     "execution_count": 41,
     "metadata": {},
     "output_type": "execute_result"
    }
   ],
   "source": [
    "# mlflow.set_tracking_uri()\n",
    "\n",
    "run_id = 'ff8a2fa5c1104751a11954764962e4b8'\n",
    "model_uri = f'runs:/{run_id}/model'\n",
    "\n",
    "mlflow.register_model(model_uri=model_uri, name='random_forest_regressor')"
   ]
  },
  {
   "cell_type": "code",
   "execution_count": null,
   "id": "e5068f35",
   "metadata": {},
   "outputs": [],
   "source": []
  }
 ],
 "metadata": {
  "kernelspec": {
   "display_name": "experiment_tracking",
   "language": "python",
   "name": "python3"
  },
  "language_info": {
   "codemirror_mode": {
    "name": "ipython",
    "version": 3
   },
   "file_extension": ".py",
   "mimetype": "text/x-python",
   "name": "python",
   "nbconvert_exporter": "python",
   "pygments_lexer": "ipython3",
   "version": "3.9.22"
  }
 },
 "nbformat": 4,
 "nbformat_minor": 5
}
